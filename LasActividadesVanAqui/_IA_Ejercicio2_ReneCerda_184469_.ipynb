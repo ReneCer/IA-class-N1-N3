{
  "nbformat": 4,
  "nbformat_minor": 0,
  "metadata": {
    "colab": {
      "name": "\"IA_Ejercicio2_ReneCerda_184469\".ipynb",
      "provenance": [],
      "collapsed_sections": []
    },
    "kernelspec": {
      "name": "python3",
      "display_name": "Python 3"
    },
    "language_info": {
      "name": "python"
    }
  },
  "cells": [
    {
      "cell_type": "markdown",
      "source": [
        "**A2: Ejercicios Básicos en Python**\n",
        "René Emiliano Cerda Medellín 1844629 Hora:N1-N3"
      ],
      "metadata": {
        "id": "I0G24hW4vXCu"
      }
    },
    {
      "cell_type": "code",
      "execution_count": null,
      "metadata": {
        "colab": {
          "base_uri": "https://localhost:8080/"
        },
        "id": "TD5iJ2NAlDdd",
        "outputId": "86fcbc9d-0114-44b9-f596-bb497b6f9788"
      },
      "outputs": [
        {
          "output_type": "stream",
          "name": "stdout",
          "text": [
            "Dame tu nombreRene\n",
            "Rene\n"
          ]
        }
      ],
      "source": [
        "msg=input(\"Dame tu nombre\")                       #Aquí se le pregunta al usuario\n",
        "if msg ==\"Ana\" or msg==\"Juan\" or msg==\"Pedro\":    #Aquí se eliminan los nombres no deseados\n",
        "  print(\"No puedo:(\")\n",
        "else:\n",
        "  print(msg)\n",
        "\n",
        "\n",
        "\n"
      ]
    },
    {
      "cell_type": "code",
      "source": [
        "colors=[\"red\",\"blue\",\"black\"]                   #Definimos la lista                 \n",
        "print(colors[-1])                               #Regresamos el ultimo elemento               \n",
        "x=len(colors)-1                 \n",
        "colors2=[colors[x], colors[x-1], colors[x-2]]   #Invertimos la lista\n",
        "for y in colors2:                               #Imprimimos la lista invertida\n",
        "  print(y)"
      ],
      "metadata": {
        "id": "SOKZPtkYtciy",
        "colab": {
          "base_uri": "https://localhost:8080/"
        },
        "outputId": "33eed589-0dfb-4c1d-ce1c-f810a5b98d94"
      },
      "execution_count": null,
      "outputs": [
        {
          "output_type": "stream",
          "name": "stdout",
          "text": [
            "black\n",
            "black\n",
            "blue\n",
            "red\n"
          ]
        }
      ]
    }
  ]
}