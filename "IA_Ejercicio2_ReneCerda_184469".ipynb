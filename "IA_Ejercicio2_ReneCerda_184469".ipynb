{
  "nbformat": 4,
  "nbformat_minor": 0,
  "metadata": {
    "colab": {
      "name": "\"IA_Ejercicio2_ReneCerda_184469\".ipynb",
      "provenance": [],
      "authorship_tag": "ABX9TyOMvCPlwv1wMrqnl0ZnKec9",
      "include_colab_link": true
    },
    "kernelspec": {
      "name": "python3",
      "display_name": "Python 3"
    },
    "language_info": {
      "name": "python"
    }
  },
  "cells": [
    {
      "cell_type": "markdown",
      "metadata": {
        "id": "view-in-github",
        "colab_type": "text"
      },
      "source": [
        "<a href=\"https://colab.research.google.com/github/ReneCer/IA-class-N1-N3/blob/main/%22IA_Ejercicio2_ReneCerda_184469%22.ipynb\" target=\"_parent\"><img src=\"https://colab.research.google.com/assets/colab-badge.svg\" alt=\"Open In Colab\"/></a>"
      ]
    },
    {
      "cell_type": "markdown",
      "source": [
        "**A2: Ejercicios Básicos en Python**\n",
        "René Emiliano Cerda Medellín 1844629 Hora:N1-N3"
      ],
      "metadata": {
        "id": "I0G24hW4vXCu"
      }
    },
    {
      "cell_type": "code",
      "execution_count": 29,
      "metadata": {
        "colab": {
          "base_uri": "https://localhost:8080/"
        },
        "id": "TD5iJ2NAlDdd",
        "outputId": "86fcbc9d-0114-44b9-f596-bb497b6f9788"
      },
      "outputs": [
        {
          "output_type": "stream",
          "name": "stdout",
          "text": [
            "Dame tu nombreRene\n",
            "Rene\n"
          ]
        }
      ],
      "source": [
        "msg=input(\"Dame tu nombre\")                       #Aquí se le pregunta al usuario\n",
        "if msg ==\"Ana\" or msg==\"Juan\" or msg==\"Pedro\":    #Aquí se eliminan los nombres no deseados\n",
        "  print(\"No puedo:(\")\n",
        "else:\n",
        "  print(msg)\n",
        "\n",
        "\n",
        "\n"
      ]
    },
    {
      "cell_type": "code",
      "source": [
        ""
      ],
      "metadata": {
        "id": "SOKZPtkYtciy"
      },
      "execution_count": null,
      "outputs": []
    }
  ]
}